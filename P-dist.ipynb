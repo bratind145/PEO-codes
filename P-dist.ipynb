#MD analysis code for calculating distance distribution
import MDAnalysis as mda
import numpy as np
import matplotlib.pyplot as plt
import glob
import os
===================================
# Use glob to get all .xtc files from R1, R2, R3 directories
xtc_files = glob.glob(os.path.join('R[1-3]', 'md.xtc'))

# Create a Universe with the .xtc files
u = mda.Universe('md.pdb', *xtc_files)
====================================
# Define atom selection strings for the two groups
group1 = u.select_atoms('resname ETHY and name C*')  # Specify your selection (e.g., all oxygen atoms)
group2 = u.select_atoms('resname ETHY')  # Group for center of mass (e.g., all carbon atoms)
group3 = u.select_atoms('resname PEOS and name O*') # PEO oxygens
===================================
# Initialize list to store distances
distances = []

# Iterate over trajectory frames
for ts in u.trajectory:
    # Calculate the center of mass of group2
    com_group2 = group2.center_of_mass()
    
    # Calculate distances from each atom in group1 to the center of mass of group2
    for atom in group1:
        distance = np.linalg.norm(atom.position - com_group2)
        distances.append(distance)

# Convert distances to a numpy array
distances1 = np.array(distances)
===================================
# Initialize list to store distances
distances = []

# Iterate over trajectory frames
for ts in u.trajectory:
    # Calculate the center of mass of group2
    com_group2 = group2.center_of_mass()
    
    # Calculate distances from each atom in group1 to the center of mass of group2
    for atom in group3:
        distance = np.linalg.norm(atom.position - com_group2)
        distances.append(distance)

# Convert distances to a numpy array
distances2 = np.array(distances)
=================================
np.savetxt('dist1.txt', distances1)
np.savetxt('dist2.txt', distances2)
=================================
import matplotlib.pyplot as plt

# Plotting the probability distribution
plt.hist(distances1, bins=500, density=True, histtype='step', label='Core carbon', color='blue', linestyle='--', linewidth=2)
plt.hist(distances2, bins=500, density=True, histtype='step', label='PEO Oxygen', color='red', linewidth=2)

# Customize the plot appearance
plt.xlabel('Distance (Å)', fontsize=14, fontweight='bold')  # Larger and bold x-axis label
plt.ylabel('Probability Density', fontsize=14, fontweight='bold')  # Larger and bold y-axis label
plt.xlim(0,120)
plt.ylim(0, 0.14)

# Customize the axes
plt.xticks(fontsize=12, fontweight='bold')  # Increase x-tick size and bold
plt.yticks(fontsize=12, fontweight='bold')  # Increase y-tick size and bold

# Make the axes lines bold
plt.gca().spines['top'].set_linewidth(2)
plt.gca().spines['right'].set_linewidth(2)
plt.gca().spines['left'].set_linewidth(2)
plt.gca().spines['bottom'].set_linewidth(2)

# Customize major and minor ticks and make them bold
plt.tick_params(axis='both', which='major', length=7, width=2, labelsize=12)  # Bold major ticks
plt.tick_params(axis='both', which='minor', length=4, width=2)  # Bold minor ticks

# Enable minor ticks
plt.minorticks_on()

# Add legend with bold text and solid box
legend = plt.legend(fontsize=12, loc='upper right', frameon=True)
plt.setp(legend.get_texts(), fontweight='bold')  # Make the legend text bold
legend.get_frame().set_edgecolor('black')  # Solid box border color
legend.get_frame().set_linewidth(2)  # Make the legend box border thicker

# Show the plot
plt.show()
===================================

